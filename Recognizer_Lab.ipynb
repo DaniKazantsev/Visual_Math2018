{
 "cells": [
  {
   "cell_type": "code",
   "execution_count": 1,
   "metadata": {},
   "outputs": [
    {
     "name": "stderr",
     "output_type": "stream",
     "text": [
      "/Users/yack_domnicky/anaconda3/lib/python3.6/site-packages/h5py/__init__.py:34: FutureWarning: Conversion of the second argument of issubdtype from `float` to `np.floating` is deprecated. In future, it will be treated as `np.float64 == np.dtype(float).type`.\n",
      "  from ._conv import register_converters as _register_converters\n"
     ]
    }
   ],
   "source": [
    "from PIL import Image\n",
    "from scipy import misc\n",
    "import pylab as plt\n",
    "%matplotlib inline\n",
    "import numpy as np\n",
    "import skimage.transform\n",
    "import pandas\n",
    "import scipy.misc\n",
    "import tensorflow \n",
    "\n",
    "from tensorflow import keras\n",
    "from tensorflow.python.keras.models import Model\n",
    "from tensorflow.python.keras.datasets import mnist\n",
    "from tensorflow.python.keras.layers import Input, Dense, ZeroPadding2D, Conv2D, MaxPooling2D, Flatten\n",
    "from tensorflow.python.keras.layers.advanced_activations import LeakyReLU\n",
    "from tensorflow.python.keras.utils import np_utils"
   ]
  },
  {
   "cell_type": "code",
   "execution_count": 2,
   "metadata": {
    "collapsed": true
   },
   "outputs": [],
   "source": [
    "def download_image(path):\n",
    "    return misc.imread(path, mode='L')\n",
    "\n",
    "def show_image(image):\n",
    "    imgplot = plt.imshow(image, cmap='gray')\n",
    "    plt.show()\n",
    "    \n",
    "def prepare_image(image, c=128):\n",
    "    new_image = image.copy()\n",
    "    for i in range(new_image.shape[0]):\n",
    "        for j in range(new_image.shape[1]):\n",
    "            if (new_image[i, j] < c):\n",
    "                new_image[i, j] = 0\n",
    "            else:\n",
    "                new_image[i, j] = 1\n",
    "    return new_image\n",
    "\n",
    "def is_in_bounds(x, y, shape):\n",
    "    return x > 0 and y > 0 and x < shape[0] and y < shape[1]\n",
    "def is_ok(x, y, image):\n",
    "    return  is_in_bounds(x, y, image.shape) and image[x, y] == 0 \n",
    "\n",
    "turns = [[-1, -1], [-1, 0], [-1, 1], [0, -1], [0, 1], [1, -1], [1, 0], [1, 1]]\n",
    "\n",
    "def dfs(cur_x, cur_y, image, used):\n",
    "    for turn in turns:\n",
    "        to_x = cur_x + turn[0]\n",
    "        to_y = cur_y + turn[1]\n",
    "        if (is_ok(to_x, to_y, image) and used[to_x, to_y] == 0):\n",
    "            used[to_x, to_y] = used[cur_x, cur_y]\n",
    "            dfs(to_x, to_y, image, used)\n",
    "\n",
    "def divide_graph(image):\n",
    "    used = np.zeros(image.shape)\n",
    "    num = 0\n",
    "    for i in range(image.shape[0]):\n",
    "        for j in range(image.shape[1]):\n",
    "            if (used[i, j] == 0 and image[i, j] == 0):\n",
    "                num += 1\n",
    "                used[i, j] = num\n",
    "                dfs(i, j, image, used)\n",
    "    return num, used\n",
    "\n",
    "def find_bounds(used):\n",
    "    min_bounds = np.zeros((num + 1, 2))\n",
    "    max_bounds = np.zeros((num + 1, 2))\n",
    "    for i in range(1, num + 1):\n",
    "        min_bounds[i, 0] = 10000000\n",
    "        min_bounds[i, 1] = 10000000\n",
    "    for i in range(img.shape[0]):\n",
    "        for j in range(img.shape[1]):\n",
    "            k = int(used[i, j])\n",
    "            if (min_bounds[k, 0] > i):\n",
    "                min_bounds[k, 0] = i\n",
    "            if (min_bounds[k, 1] > j):\n",
    "                min_bounds[k, 1] = j\n",
    "            if (max_bounds[k, 0] < i):\n",
    "                max_bounds[k, 0] = i\n",
    "            if (max_bounds[k, 1] < j):\n",
    "                max_bounds[k, 1] = j\n",
    "    return min_bounds, max_bounds\n",
    "\n",
    "def filter_graph(num, used, min_bounds, max_bounds):\n",
    "    actual_num = 0\n",
    "    min_size = 10\n",
    "    for k in range(1, num + 1):\n",
    "        if (max_bounds[k, 0] - min_bounds[k, 0] < min_size and max_bounds[k, 1] - min_bounds[k, 1] < min_size):\n",
    "            for i in range(used.shape[0]):\n",
    "                for j in range(used.shape[1]):\n",
    "                   if (int(used[i, j]) == k):\n",
    "                       used[i, j] = 0\n",
    "        else:\n",
    "            actual_num += 1\n",
    "            min_bounds[actual_num] = min_bounds[k]\n",
    "            max_bounds[actual_num] = max_bounds[k]\n",
    "            for i in range(used.shape[0]):\n",
    "                for j in range(used.shape[1]):\n",
    "                   if (int(used[i, j]) == k):\n",
    "                       used[i, j] = actual_num   \n",
    "    return actual_num\n",
    "\n",
    "def print_obj(used, id):\n",
    "    img = np.zeros(used.shape)\n",
    "    for i in range(used.shape[0]):\n",
    "        for j in range(used.shape[1]):\n",
    "            img[i, j] = 1\n",
    "            if (int(used[i, j]) == id):\n",
    "                img[i, j] = 0\n",
    "    show_image(img)\n",
    "\n",
    "def print_all(used, num):\n",
    "    print(num)\n",
    "    for i in range(num):\n",
    "        print_obj(component, i + 1)\n",
    "\n",
    "def mark_up_findings(image, num, used, min_bounds, max_bounds):\n",
    "    marked_image = image.copy()\n",
    "    color = 0\n",
    "    shape = marked_image.shape\n",
    "    for k in range(1, num + 1):\n",
    "        min_x = int(min_bounds[k, 0])\n",
    "        min_y = int(min_bounds[k, 1])\n",
    "        max_x = int(max_bounds[k, 0])\n",
    "        max_y = int(max_bounds[k, 1])\n",
    "        for i in range(min_x, max_x):\n",
    "            marked_image[i, min_y] = color\n",
    "            marked_image[i, max_y] = color\n",
    "            if (min_y > 0):\n",
    "                marked_image[i, min_y - 1] = color\n",
    "            if (max_y > 0):\n",
    "                marked_image[i, max_y - 1] = color\n",
    "            if (min_y < shape[1] - 1):\n",
    "                marked_image[i, min_y + 1] = color\n",
    "            if (max_y < shape[1] - 1):\n",
    "                marked_image[i, max_y + 1] = color\n",
    "        for i in range(min_y, max_y):\n",
    "            marked_image[min_x, i] = color\n",
    "            marked_image[max_x, i] = color\n",
    "            if (min_x > 0):\n",
    "                marked_image[min_x - 1, i] = color\n",
    "            if (max_x > 0):\n",
    "                marked_image[max_x - 1, i] = color\n",
    "            if (min_x < shape[0] - 1):\n",
    "                marked_image[min_x + 1, i] = color\n",
    "            if (max_x < shape[0] - 1):\n",
    "                marked_image[max_x + 1, i] = color\n",
    "    show_image(marked_image)\n",
    "    \n",
    "def maximum(x, y):\n",
    "    return x * (x >= y) + y * (x < y)\n",
    "\n",
    "def minimum(x, y):\n",
    "    return x * (x <= y) + y * (x > y)\n",
    "\n",
    "def delete_frames(image):\n",
    "    for i in range(image.shape[0]):\n",
    "        image[i][0] = 1\n",
    "        image[i][image.shape[0] - 1] = 1\n",
    "        image[0][i] = 1\n",
    "        image[image.shape[0] - 1][i] = 1\n",
    "    return image\n",
    "\n",
    "def crop_image(image):\n",
    "    size = 28\n",
    "    times = 1.4\n",
    "    cur_size = max(image.shape)\n",
    "    \n",
    "    tmp = np.ones((cur_size, cur_size))\n",
    "    dx = (cur_size - image.shape[0]) // 2\n",
    "    dy = (cur_size - image.shape[1]) // 2\n",
    "    for i in range(image.shape[0]):\n",
    "        for j in range(image.shape[1]):\n",
    "            tmp[i + dx, j + dy] = image[i, j]  \n",
    "    image = tmp\n",
    "    \n",
    "    while (image.shape[0] < size * times) and (image.shape[1] < size * times):\n",
    "        image = skimage.transform.resize(image, (int(image.shape[0] * times), int(image.shape[1] * times)))\n",
    "        image = delete_frames(image)\n",
    "                                         \n",
    "    while (image.shape[0] > size) or (image.shape[1] > size):\n",
    "        image = skimage.transform.resize(image, (int(image.shape[0] / times), int(image.shape[1] / times)))\n",
    "        image = delete_frames(image)\n",
    "                                         \n",
    "    if (image.shape[0] <= size and image.shape[1] <= size):\n",
    "        field_x = (size - image.shape[0]) // 2\n",
    "        field_y = (size - image.shape[1]) // 2\n",
    "        new_image = np.ones((size, size))\n",
    "        for i in range(image.shape[0]):\n",
    "            for j in range(image.shape[1]):\n",
    "                new_image[i + field_x, j + field_y] = image[i, j]\n",
    "        \n",
    "        new_image = delete_frames(new_image)\n",
    "        return new_image\n",
    "    new_image = skimage.transform.resize(image, (size, size))\n",
    "    \n",
    "    new_image = delete_frames(new_image)\n",
    "    return new_image\n",
    "    '''\n",
    "    while not (image.shape[0] <= 28 and image.shape[1] <= 28):\n",
    "        image = skimage.transform.resize(image, (image.shape[0] // 2, image.shape[1] // 2))\n",
    "    new_image = np.ones((size, size))\n",
    "    for i in range(image.shape[0]):\n",
    "        for j in range(image.shape[1]):\n",
    "            new_image[i + (28 - image.shape[0]) // 2, j + (28 - image.shape[1]) // 2] = image[i, j]\n",
    "    \n",
    "    #new_image *= 255\n",
    "    #prepare_image(new_image, 200)\n",
    "    #new_image /= 255\n",
    "    return new_image'''\n",
    "    \n",
    "class Symbol:\n",
    "    def __init__(self, image, min_x, max_x, min_y, max_y):\n",
    "        self.image = image\n",
    "        self.min_x = min_x\n",
    "        self.max_x = max_x\n",
    "        self.min_y = min_y\n",
    "        self.max_y = max_y\n",
    "        self.height = max_y - min_y\n",
    "        self.width = max_x - min_x\n",
    "    \n",
    "\n",
    "def crop_findings(image, num, used, min_bounds, max_bounds):\n",
    "    symbols = list()\n",
    "    for k in range(1, num + 1):\n",
    "        field = int(max_bounds[k, 0] + max_bounds[k, 1] - min_bounds[k, 0] - min_bounds[k, 1]) // 10\n",
    "        #print(field)\n",
    "        min_x = int(min_bounds[k, 0]) - field\n",
    "        min_y = int(min_bounds[k, 1]) - field\n",
    "        max_x = int(max_bounds[k, 0]) + field\n",
    "        max_y = int(max_bounds[k, 1]) + field\n",
    "        new_image = np.ones((max_x - min_x, max_y - min_y))\n",
    "        for i in range(maximum(0, min_x), minimum(image.shape[0], max_x)):\n",
    "            for j in range(maximum(0, min_y), minimum(image.shape[1], max_y)):\n",
    "                if (int(used[i, j]) == k):\n",
    "                    new_image[i - min_x, j - min_y] = 0\n",
    "        symbol = Symbol(crop_image(new_image), min_y, max_y, min_x, max_x)\n",
    "        symbols.append(symbol)\n",
    "    return symbols"
   ]
  },
  {
   "cell_type": "code",
   "execution_count": 6,
   "metadata": {
    "collapsed": true
   },
   "outputs": [],
   "source": [
    "alphabet = ['A', 'B', 'C', 'D', 'E', 'F', 'G', 'H', 'I', 'J', 'K', 'L', 'M', 'N', 'O', 'P', 'Q', 'R', 'S', 'T', 'U', 'V', 'W', 'X', 'Y', 'Z']\n",
    "numbers = ['0', '1', '2', '3', '4', '5', '6', '7', '8', '9']\n",
    "letters = 'ABXYSNFG'\n",
    "symb = '0123456789ABXYSNFG'\n",
    "def predict_letter(symbol, model):\n",
    "    image = symbol.image\n",
    "    size = 28\n",
    "    new_data = 1 - image.reshape((28 * 28, 1))\n",
    "    pred = model.predict(new_data.T)\n",
    "    #print(pred)\n",
    "    maximum = -1\n",
    "    number = -1\n",
    "    for i in range(len(pred[0])):\n",
    "        if pred[0, i] > maximum:\n",
    "            maximum = pred[0, i]\n",
    "            number = i\n",
    "    return alphabet[number]\n",
    "\n",
    "def predict_number(symbol, model, model2):\n",
    "    image = symbol.image\n",
    "    size = 28\n",
    "    #new_data = 1 - image.reshape((size, size, 1))\n",
    "    new_data = 1 - image.reshape((1, size, size, 1))\n",
    "    #pred = model.predict(image)\n",
    "    pred = model.predict(new_data)\n",
    "    #print(pred)\n",
    "    maximum = -1\n",
    "    number = -1\n",
    "    for i in range(len(pred[0])):\n",
    "        if pred[0, i] > maximum:\n",
    "            maximum = pred[0, i]\n",
    "            number = i\n",
    "    if (model2 != None):\n",
    "        ln = len(pred[0])\n",
    "        pred = model2.predict(new_data)\n",
    "        maximum /= 10\n",
    "        for i in range(len(pred[0])):\n",
    "            if pred[0, i] / len(pred[0]) > maximum:\n",
    "                maximum = pred[0, i] / len(pred[0])\n",
    "                number = i + ln\n",
    "        return symb[number]\n",
    "    if (len(pred[0]) == len(letters)):\n",
    "        return letters[number]\n",
    "    if (len(pred[0]) == len(symb)):\n",
    "        return symb[number]\n",
    "\n",
    "    return numbers[number]\n",
    "\n",
    "def predict_number_or_letter(image, model_d, model_l):\n",
    "    size = 28\n",
    "    new_data = 1 - image.reshape((28 * 28, 1))\n",
    "    pred = model_d.predict(new_data.T)\n",
    "    maximum = -1\n",
    "    number = -1\n",
    "    for i in range(len(pred[0])):\n",
    "        if pred[0, i] / 10 > maximum:\n",
    "            maximum = pred[0, i] / 10\n",
    "            number = i\n",
    "    answer = number\n",
    "    pred = model_l.predict(new_data.T)\n",
    "    flag = False\n",
    "    for i in range(len(pred[0])):\n",
    "        if pred[0, i] / 26 > maximum:\n",
    "            maximum = pred[0, i] / 26\n",
    "            number = i\n",
    "            flag = True\n",
    "    if flag:\n",
    "        answer = alphabet[number]\n",
    "    return answer"
   ]
  },
  {
   "cell_type": "code",
   "execution_count": 4,
   "metadata": {
    "collapsed": true
   },
   "outputs": [],
   "source": [
    "def tex_answer(symbols, model, model2 = None):\n",
    "    \n",
    "    string = list()\n",
    "    for i in range(0, num):\n",
    "        string.append((symbols[i].min_x, symbols[i].min_y, symbols[i]))\n",
    "    string.sort()\n",
    "    \n",
    "    max_height = 0\n",
    "    max_y = 0\n",
    "    min_y = 100000\n",
    "    for symbol in symbols:\n",
    "        if (symbol.height > max_height):\n",
    "            max_height = symbol.height\n",
    "        if (symbol.max_y > max_y):\n",
    "            max_y = symbol.max_y\n",
    "        if (symbol.min_y < min_y):\n",
    "            min_y = symbol.min_y\n",
    "    middle = (max_y + min_y) // 2\n",
    "\n",
    "\n",
    "    answer = list()\n",
    "\n",
    "    for i in range(num):\n",
    "        symbol = string[i][2]\n",
    "        answer.append((predict_number(symbol, model, model2), 'n'))\n",
    "        if (symbol.height < max_height * 0.6):\n",
    "            if (symbol.min_y <= middle):\n",
    "                answer[i] = (answer[i][0], 'u')\n",
    "            else:\n",
    "                answer[i] = (answer[i][0], 'l')\n",
    "    \n",
    "    cur_upper = ''\n",
    "    cur_lower = ''\n",
    "    tex = ''\n",
    "    \n",
    "    for i in range(num):\n",
    "        if (answer[i][1] == 'n'):\n",
    "            if (len(cur_upper)):\n",
    "                tex += '^{' + cur_upper + '}'\n",
    "                cur_upper = ''\n",
    "            if (len(cur_lower)):\n",
    "                tex += '_{' + cur_lower + '}'\n",
    "                cur_lower = ''\n",
    "            tex += answer[i][0]\n",
    "            continue\n",
    "            \n",
    "        \n",
    "            \n",
    "        if (answer[i][1] == 'u'):\n",
    "            cur_upper += answer[i][0]\n",
    "            continue\n",
    "\n",
    "        if (answer[i][1] == 'l'):\n",
    "            cur_lower += answer[i][0]\n",
    "            continue\n",
    "            \n",
    "    if (len(cur_upper)):\n",
    "        tex += '^{' + cur_upper + '}'\n",
    "        cur_upper = ''\n",
    "    if (len(cur_lower)):\n",
    "        tex += '_{' + cur_lower + '}'\n",
    "        cur_lower = ''\n",
    "\n",
    "    return tex"
   ]
  },
  {
   "cell_type": "code",
   "execution_count": 5,
   "metadata": {
    "collapsed": true
   },
   "outputs": [],
   "source": [
    "def load_data(path):\n",
    "    trainAll = pandas.read_csv(path + \"/emnist-letters-train.csv\")\n",
    "    trainLetters = trainAll.values[:,1:785]\n",
    "    trainLabels = trainAll.values[:,0:1]\n",
    "    testAll = pandas.read_csv(path + \"/emnist-letters-test.csv\")\n",
    "    testLetters = testAll.values[:,1:785]\n",
    "    testLabels = testAll.values[:,0:1]\n",
    "    \n",
    "    X_train = np.zeros(trainLetters.shape)\n",
    "    for i in range(trainLetters.shape[0]):\n",
    "        X_train[i] = (trainLetters[i].reshape(28, 28).T / 255).reshape(28 * 28)\n",
    "    y_train = trainAll.values[:,0:1] - 1\n",
    "\n",
    "    X_test = np.zeros(testLetters.shape)\n",
    "    for i in range(testLetters.shape[0]):\n",
    "        X_test[i] = (testLetters[i].reshape(28, 28).T / 255).reshape(28 * 28)\n",
    "    y_test = testAll.values[:,0:1] - 1\n",
    "    return X_train, y_train, X_test, y_test\n",
    "\n",
    "def learn_EMNIST_model(X_train, y_train, X_test, y_test):\n",
    "    batch_size = 128\n",
    "    num_epochs = 20\n",
    "    hidden_size = 512 * 2\n",
    "\n",
    "    num_train = X_train.shape[0]\n",
    "    num_test = X_test.shape[0]\n",
    "\n",
    "    height, width, depth = 28, 28, 1\n",
    "    num_classes = 26\n",
    "\n",
    "    X_train = X_train.astype('float32')\n",
    "    X_test = X_test.astype('float32')\n",
    "    X_train /= 255\n",
    "    X_test /= 255\n",
    "\n",
    "    Y_train = np_utils.to_categorical(y_train, num_classes)\n",
    "    Y_test = np_utils.to_categorical(y_test, num_classes)\n",
    "\n",
    "    inp = Input(shape=(height * width,))\n",
    "    hidden_1 = Dense(hidden_size, activation='relu')(inp)\n",
    "    hidden_2 = Dense(hidden_size, activation='relu')(hidden_1)\n",
    "    out = Dense(num_classes, activation='softmax')(hidden_2)\n",
    "    model = Model(inp, out)\n",
    "    model.compile(loss='categorical_crossentropy', # using the cross-entropy loss function\n",
    "              optimizer='adam', # using the Adam optimiser\n",
    "              metrics=['accuracy']) # reporting the accuracy\n",
    "\n",
    "    model.fit(X_train, Y_train, # Train the model using the training set...\n",
    "              batch_size=batch_size, nb_epoch=num_epochs,\n",
    "              verbose=1, validation_split=0.1) # ...holding out 10% of the data for validation\n",
    "    model.evaluate(X_test, Y_test, verbose=1) # Evaluate the trained model on the test set!\n",
    "    return model"
   ]
  },
  {
   "cell_type": "code",
   "execution_count": 7,
   "metadata": {
    "collapsed": true
   },
   "outputs": [],
   "source": [
    "def learn_MNIST_model():\n",
    "    batch_size = 128\n",
    "    num_epochs = 20\n",
    "    hidden_size = 512\n",
    "\n",
    "    num_train = 60000\n",
    "    num_test = 10000\n",
    "\n",
    "    height, width, depth = 28, 28, 1\n",
    "    num_classes = 10\n",
    "\n",
    "    (X_train, y_train), (X_test, y_test) = mnist.load_data()\n",
    "\n",
    "    X_train = X_train.reshape(num_train, height * width)\n",
    "    X_test = X_test.reshape(num_test, height * width)\n",
    "    X_train = X_train.astype('float32')\n",
    "    X_test = X_test.astype('float32')\n",
    "    X_train /= 255\n",
    "    X_test /= 255\n",
    "    X_train = X_train\n",
    "    X_test = X_test\n",
    "\n",
    "    Y_train = np_utils.to_categorical(y_train, num_classes)\n",
    "    Y_test = np_utils.to_categorical(y_test, num_classes)\n",
    "\n",
    "    inp = Input(shape=(height * width,))\n",
    "    hidden_1 = Dense(hidden_size, activation='relu')(inp)\n",
    "    hidden_2 = Dense(hidden_size, activation='relu')(hidden_1)\n",
    "    out = Dense(num_classes, activation='softmax')(hidden_2)\n",
    "\n",
    "    model = Model(inp, out)\n",
    "\n",
    "    model.compile(loss='categorical_crossentropy', # using the cross-entropy loss function\n",
    "                  optimizer='adam', # using the Adam optimiser\n",
    "                  metrics=['accuracy']) # reporting the accuracy\n",
    "\n",
    "    model.fit(X_train, Y_train, # Train the model using the training set...\n",
    "              batch_size=batch_size, nb_epoch=num_epochs,\n",
    "              verbose=1, validation_split=0.1) # ...holding out 10% of the data for validation\n",
    "    model.evaluate(X_test, Y_test, verbose=1) # Evaluate the trained model on the test set!\n",
    "    return model"
   ]
  },
  {
   "cell_type": "code",
   "execution_count": 9,
   "metadata": {},
   "outputs": [],
   "source": [
    "#X_train, y_train, X_test, y_test = load_data(\"/Users/yack_domnicky/EMNIST_data\")\n",
    "#EMNIST_model = learn_EMNIST_model(X_train, y_train, X_test, y_test)"
   ]
  },
  {
   "cell_type": "code",
   "execution_count": 8,
   "metadata": {},
   "outputs": [],
   "source": [
    "#MNIST_model = learn_MNIST_model()"
   ]
  },
  {
   "cell_type": "code",
   "execution_count": 9,
   "metadata": {},
   "outputs": [
    {
     "name": "stderr",
     "output_type": "stream",
     "text": [
      "/Users/yack_domnicky/anaconda3/lib/python3.6/site-packages/ipykernel_launcher.py:2: DeprecationWarning: `imread` is deprecated!\n",
      "`imread` is deprecated in SciPy 1.0.0, and will be removed in 1.2.0.\n",
      "Use ``imageio.imread`` instead.\n",
      "  \n"
     ]
    },
    {
     "data": {
      "image/png": "[encoded data removed]",
      "text/plain": [
       "<matplotlib.figure.Figure at 0x13bb4e6d8>"
      ]
     },
     "metadata": {},
     "output_type": "display_data"
    },
    {
     "data": {
      "image/png": "[encoded data removed]",
      "text/plain": [
       "<matplotlib.figure.Figure at 0x10c83cf60>"
      ]
     },
     "metadata": {},
     "output_type": "display_data"
    },
    {
     "data": {
      "image/png": "[encoded data removed]",
      "text/plain": [
       "<matplotlib.figure.Figure at 0x13de3d940>"
      ]
     },
     "metadata": {},
     "output_type": "display_data"
    },
    {
     "name": "stderr",
     "output_type": "stream",
     "text": [
      "/Users/yack_domnicky/anaconda3/lib/python3.6/site-packages/skimage/transform/_warps.py:105: UserWarning: The default mode, 'constant', will be changed to 'reflect' in skimage 0.15.\n",
      "  warn(\"The default mode, 'constant', will be changed to 'reflect' in \"\n",
      "/Users/yack_domnicky/anaconda3/lib/python3.6/site-packages/skimage/transform/_warps.py:110: UserWarning: Anti-aliasing will be enabled by default in skimage 0.15 to avoid aliasing artifacts when down-sampling images.\n",
      "  warn(\"Anti-aliasing will be enabled by default in skimage 0.15 to \"\n"
     ]
    },
    {
     "name": "stdout",
     "output_type": "stream",
     "text": [
      "Y^{N}_{SY}BSB^{N}_{NY}F\n",
      "1^{2}_{34}855^{9}_{14}7\n",
      "Y^{N}_{SY}BSB^{N}_{NY}F\n"
     ]
    }
   ],
   "source": [
    "from keras.models import load_model\n",
    "import h5py\n",
    "model3 = keras.models.load_model('Symbols_Fraiming/convolutionalModel.h5')\n",
    "#modelY = keras.models.load_model('Symbols_Fraiming/convolutionalModel2.h5')\n",
    "#modelX = keras.models.load_model('Symbols_Fraiming/LettersModel.h5')\n",
    "modelS = keras.models.load_model('Symbols_Fraiming/LettersModel3.h5')\n",
    "modelE = keras.models.load_model('Symbols_Fraiming/MixedModel.h5')\n",
    "img = download_image('Symbols_Fraiming/test.jpg')\n",
    "show_image(img)\n",
    "prprd_img = prepare_image(img)\n",
    "#show_image(img)\n",
    "show_image(prprd_img)\n",
    "num, component = divide_graph(prprd_img)\n",
    "min_bounds, max_bounds = find_bounds(component)\n",
    "num = filter_graph(num, component, min_bounds, max_bounds)\n",
    "#print_all(component, num)\n",
    "mark_up_findings(img, num, component, min_bounds, max_bounds)\n",
    "symbols = crop_findings(prprd_img, num, component, min_bounds, max_bounds)\n",
    "#answer = tex_answer(symbols, model3)\n",
    "#print(answer)\n",
    "#answer = tex_answer(symbols, modelY)\n",
    "#print(answer)\n",
    "#answer = tex_answer(symbols, modelX)\n",
    "#print(answer)\n",
    "answer = tex_answer(symbols, modelS)\n",
    "print(answer)\n",
    "answer = tex_answer(symbols, model3)\n",
    "print(answer)\n",
    "answer = tex_answer(symbols, model3, modelS)\n",
    "print(answer)"
   ]
  },
  {
   "cell_type": "code",
   "execution_count": 8,
   "metadata": {},
   "outputs": [
    {
     "name": "stdout",
     "output_type": "stream",
     "text": [
      "2\n"
     ]
    },
    {
     "data": {
      "image/png": "[encoded data removed]",
      "text/plain": [
       "<matplotlib.figure.Figure at 0x1244eb9e8>"
      ]
     },
     "metadata": {},
     "output_type": "display_data"
    },
    {
     "name": "stdout",
     "output_type": "stream",
     "text": [
      "1\n"
     ]
    },
    {
     "data": {
      "image/png": "[encoded data removed]",
      "text/plain": [
       "<matplotlib.figure.Figure at 0x128687748>"
      ]
     },
     "metadata": {},
     "output_type": "display_data"
    },
    {
     "name": "stdout",
     "output_type": "stream",
     "text": [
      "4\n"
     ]
    },
    {
     "data": {
      "image/png": "[encoded data removed]",
      "text/plain": [
       "<matplotlib.figure.Figure at 0x12879ee48>"
      ]
     },
     "metadata": {},
     "output_type": "display_data"
    },
    {
     "name": "stdout",
     "output_type": "stream",
     "text": [
      "7\n"
     ]
    },
    {
     "data": {
      "image/png": "[encoded data removed]",
      "text/plain": [
       "<matplotlib.figure.Figure at 0x1282b9fd0>"
      ]
     },
     "metadata": {},
     "output_type": "display_data"
    },
    {
     "name": "stdout",
     "output_type": "stream",
     "text": [
      "5\n"
     ]
    },
    {
     "data": {
      "image/png": "[encoded data removed]",
      "text/plain": [
       "<matplotlib.figure.Figure at 0x1285f1208>"
      ]
     },
     "metadata": {},
     "output_type": "display_data"
    },
    {
     "name": "stdout",
     "output_type": "stream",
     "text": [
      "3\n"
     ]
    },
    {
     "data": {
      "image/png": "[encoded data removed]",
      "text/plain": [
       "<matplotlib.figure.Figure at 0x1287e3b70>"
      ]
     },
     "metadata": {},
     "output_type": "display_data"
    },
    {
     "name": "stdout",
     "output_type": "stream",
     "text": [
      "5\n"
     ]
    },
    {
     "data": {
      "image/png": "[encoded data removed]",
      "text/plain": [
       "<matplotlib.figure.Figure at 0x128854b70>"
      ]
     },
     "metadata": {},
     "output_type": "display_data"
    },
    {
     "name": "stdout",
     "output_type": "stream",
     "text": [
      "8\n"
     ]
    },
    {
     "data": {
      "image/png": "[encoded data removed]",
      "text/plain": [
       "<matplotlib.figure.Figure at 0x128519d68>"
      ]
     },
     "metadata": {},
     "output_type": "display_data"
    }
   ],
   "source": [
    "for symbol in symbols:\n",
    "    #print(predict_letter(symbol, model3))#EMNIST_model))\n",
    "    print(predict_number(symbol, model3))#MNIST_model))\n",
    "    #print(predict_number_or_letter(symbol, MNIST_model, EMNIST_model))\n",
    "    show_image(symbol.image)"
   ]
  },
  {
   "cell_type": "code",
   "execution_count": null,
   "metadata": {
    "collapsed": true
   },
   "outputs": [],
   "source": []
  }
 ],
 "metadata": {
  "kernelspec": {
   "display_name": "Python 3",
   "language": "python",
   "name": "python3"
  },
  "language_info": {
   "codemirror_mode": {
    "name": "ipython",
    "version": 3
   },
   "file_extension": ".py",
   "mimetype": "text/x-python",
   "name": "python",
   "nbconvert_exporter": "python",
   "pygments_lexer": "ipython3",
   "version": "3.6.8"
  }
 },
 "nbformat": 4,
 "nbformat_minor": 2
}
